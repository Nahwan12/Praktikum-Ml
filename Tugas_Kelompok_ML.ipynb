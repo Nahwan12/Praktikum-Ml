{
  "nbformat": 4,
  "nbformat_minor": 0,
  "metadata": {
    "colab": {
      "private_outputs": true,
      "provenance": [],
      "authorship_tag": "ABX9TyPXbWSaz9szvGozXaCAADHt",
      "include_colab_link": true
    },
    "kernelspec": {
      "name": "python3",
      "display_name": "Python 3"
    },
    "language_info": {
      "name": "python"
    }
  },
  "cells": [
    {
      "cell_type": "markdown",
      "metadata": {
        "id": "view-in-github",
        "colab_type": "text"
      },
      "source": [
        "<a href=\"https://colab.research.google.com/github/Nahwan12/Praktikum-Ml/blob/main/Tugas_Kelompok_ML.ipynb\" target=\"_parent\"><img src=\"https://colab.research.google.com/assets/colab-badge.svg\" alt=\"Open In Colab\"/></a>"
      ]
    },
    {
      "cell_type": "code",
      "execution_count": null,
      "metadata": {
        "id": "iTV7QsUp86j0"
      },
      "outputs": [],
      "source": [
        "import pandas as pd\n",
        "import numpy as np\n",
        "import matplotlib.pyplot as plt\n",
        "from sklearn.cluster import KMeans, DBSCAN, AgglomerativeClustering"
      ]
    },
    {
      "cell_type": "code",
      "source": [
        "df = pd.read_csv(\"/content/Sales_Transactions_Dataset_Weekly2.csv\")\n",
        "df.head()"
      ],
      "metadata": {
        "id": "VF2Q3f0b9B1-"
      },
      "execution_count": null,
      "outputs": []
    },
    {
      "cell_type": "code",
      "source": [
        "df.info()"
      ],
      "metadata": {
        "id": "mj-TE_xD9Orl"
      },
      "execution_count": null,
      "outputs": []
    },
    {
      "cell_type": "code",
      "source": [
        "df.describe()"
      ],
      "metadata": {
        "id": "6HbXAZea9WkX"
      },
      "execution_count": null,
      "outputs": []
    },
    {
      "cell_type": "markdown",
      "source": [
        "**Algoritma KMeans**"
      ],
      "metadata": {
        "id": "CQbs8IUAFXRE"
      }
    },
    {
      "cell_type": "markdown",
      "source": [
        "Menentukan jumlah cluster"
      ],
      "metadata": {
        "id": "kDprO-9WskXf"
      }
    },
    {
      "cell_type": "code",
      "source": [
        "# Menggunakan metode Ellbow\n",
        "\n",
        "score = []\n",
        "for k in range(2,25):\n",
        "  kmeans = KMeans(n_clusters = k)\n",
        "  member = kmeans.fit_predict(df)\n",
        "  score.append(kmeans.inertia_)\n",
        "\n",
        "plt.figure(figsize=(5,5))\n",
        "plt.plot(range(2,25), score, 'r-')\n",
        "plt.ylabel(\"I\")\n",
        "plt.xlabel('n_cluster')"
      ],
      "metadata": {
        "id": "GE8T4Y6RHPuY"
      },
      "execution_count": null,
      "outputs": []
    },
    {
      "cell_type": "code",
      "source": [
        "from sklearn.cluster import KMeans\n",
        "from sklearn.metrics import silhouette_score"
      ],
      "metadata": {
        "id": "PKKjkf2u-51v"
      },
      "execution_count": null,
      "outputs": []
    },
    {
      "cell_type": "code",
      "source": [
        "kmeans = KMeans(n_clusters = 5)\n",
        "member = kmeans.fit_predict(df)"
      ],
      "metadata": {
        "id": "v0yHARNTlD_o"
      },
      "execution_count": null,
      "outputs": []
    },
    {
      "cell_type": "code",
      "source": [
        "df_pred = df.copy()\n",
        "df_pred['cluster'] = member\n",
        "df_pred.head()"
      ],
      "metadata": {
        "id": "KyY1nST2qUTJ"
      },
      "execution_count": null,
      "outputs": []
    },
    {
      "cell_type": "markdown",
      "source": [
        "Analyze Cluster"
      ],
      "metadata": {
        "id": "-ws9VQ6IrJBm"
      }
    },
    {
      "cell_type": "code",
      "source": [
        "member"
      ],
      "metadata": {
        "id": "-s33pozryFEp"
      },
      "execution_count": null,
      "outputs": []
    },
    {
      "cell_type": "code",
      "source": [
        "kmeans = KMeans(n_clusters = 5)\n",
        "member = kmeans.fit_predict(df)\n",
        "centre = kmeans.cluster_centers_\n",
        "\n",
        "plt.figure(figsize = (8,8))\n",
        "plt.scatter(df_pred.W0,\tdf_pred.W3, c=member, s=10)\n",
        "plt.scatter(centre[:,0], centre[:,1], c=\"w\", edgecolors=\"k\", s=50, linewidths=2)\n",
        "plt.axis('equal')"
      ],
      "metadata": {
        "id": "N3IKuEuO0JUr"
      },
      "execution_count": null,
      "outputs": []
    },
    {
      "cell_type": "code",
      "source": [
        "kmeans.cluster_centers_"
      ],
      "metadata": {
        "id": "-8dLtCWZIhol"
      },
      "execution_count": null,
      "outputs": []
    },
    {
      "cell_type": "code",
      "source": [],
      "metadata": {
        "id": "UMS8I1kTJRc8"
      },
      "execution_count": null,
      "outputs": []
    }
  ]
}